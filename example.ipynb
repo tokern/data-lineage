{
 "cells": [
  {
   "cell_type": "markdown",
   "metadata": {},
   "source": [
    "# Overview\n",
    "\n",
    "This example demonstrates how to scan query history from a data warehouse and save it in the data lineage app. The app automatically parses and extracts data lineage from the queries.\n",
    "\n",
    "The example consists of the following sequence of operations:\n",
    "\n",
    "* Start docker containers containing a demo. Refer to [docs](https://tokern.io/docs/data-lineage/installation) for detailed instructions on installing demo-wikimedia.\n",
    "* Scan and send queries from query history to data lineage app.\n",
    "* Visualize the graph by visiting Tokern UI.\n",
    "* Analyze the graph"
   ]
  },
  {
   "cell_type": "markdown",
   "metadata": {},
   "source": [
    "# Installation\n",
    "\n",
    "This demo requires wikimedia demo to be running. Start the demo using the following instructions:\n",
    "\n",
    "    # in a new directory run\n",
    "    wget https://raw.githubusercontent.com/tokern/data-lineage/master/install-manifests/docker-compose/wikimedia-demo.yml\n",
    "    # or run\n",
    "    curl https://raw.githubusercontent.com/tokern/data-lineage/master/install-manifests/docker-compose/wikimedia-demo.yml -o docker-compose.yml\n",
    "\n",
    "\n",
    "Run docker-compose\n",
    "\n",
    "\n",
    "    docker-compose up -d\n",
    "\n",
    "\n",
    "Verify container are running\n",
    "\n",
    "\n",
    "    docker container ls | grep tokern\n"
   ]
  },
  {
   "cell_type": "code",
   "execution_count": 1,
   "metadata": {},
   "outputs": [],
   "source": [
    "# Required configuration for API and wikimedia database network address\n",
    "\n",
    "docker_address = \"http://127.0.0.1:8000\"\n",
    "wikimedia_db = {\n",
    "  \"username\": \"etldev\",\n",
    "  \"password\": \"3tld3v\",\n",
    "  \"uri\": \"tokern-demo-wikimedia\",\n",
    "  \"port\": \"5432\",\n",
    "  \"database\": \"wikimedia\"\n",
    "}"
   ]
  },
  {
   "cell_type": "code",
   "execution_count": 2,
   "metadata": {},
   "outputs": [
    {
     "data": {
      "text/plain": [
       "True"
      ]
     },
     "execution_count": 2,
     "metadata": {},
     "output_type": "execute_result"
    }
   ],
   "source": [
    "# Setup a connection to catalog using the SDK.\n",
    "from data_lineage import Catalog\n",
    "\n",
    "catalog = Catalog(docker_address)\n",
    "\n",
    "# Register wikimedia datawarehouse with data-lineage app.\n",
    "\n",
    "source = catalog.add_source(name=\"wikimedia\", source_type=\"postgresql\", **wikimedia_db)\n",
    "\n",
    "# Scan the wikimedia data warehouse and register all schemata, tables and columns.\n",
    "\n",
    "catalog.scan_source(source)\n"
   ]
  },
  {
   "cell_type": "code",
   "execution_count": 3,
   "metadata": {},
   "outputs": [],
   "source": [
    "import json\n",
    "\n",
    "with open(\"test/queries.json\", \"r\") as file:\n",
    "    queries = json.load(file)"
   ]
  },
  {
   "cell_type": "code",
   "execution_count": 5,
   "metadata": {
    "scrolled": true
   },
   "outputs": [
    {
     "name": "stdout",
     "output_type": "stream",
     "text": [
      "{'name': 'LOAD page_lookup_nonredirect', 'query': 'INSERT INTO page_lookup_nonredirect SELECT  page.page_id as redircet_id, page.page_title as redirect_title, page.page_title true_title, page.page_id, page.page_latest FROM page LEFT OUTER JOIN redirect ON page.page_id = redirect.rd_from WHERE redirect.rd_from IS NULL '}\n"
     ]
    },
    {
     "ename": "TypeError",
     "evalue": "analyze() missing 2 required positional arguments: 'start_time' and 'end_time'",
     "output_type": "error",
     "traceback": [
      "\u001B[0;31m---------------------------------------------------------------------------\u001B[0m",
      "\u001B[0;31mTypeError\u001B[0m                                 Traceback (most recent call last)",
      "\u001B[0;32m/tmp/ipykernel_2259588/1883341295.py\u001B[0m in \u001B[0;36m<module>\u001B[0;34m\u001B[0m\n\u001B[1;32m      5\u001B[0m \u001B[0;32mfor\u001B[0m \u001B[0mquery\u001B[0m \u001B[0;32min\u001B[0m \u001B[0mqueries\u001B[0m\u001B[0;34m:\u001B[0m\u001B[0;34m\u001B[0m\u001B[0;34m\u001B[0m\u001B[0m\n\u001B[1;32m      6\u001B[0m     \u001B[0mprint\u001B[0m\u001B[0;34m(\u001B[0m\u001B[0mquery\u001B[0m\u001B[0;34m)\u001B[0m\u001B[0;34m\u001B[0m\u001B[0;34m\u001B[0m\u001B[0m\n\u001B[0;32m----> 7\u001B[0;31m     \u001B[0manalyze\u001B[0m\u001B[0;34m.\u001B[0m\u001B[0manalyze\u001B[0m\u001B[0;34m(\u001B[0m\u001B[0;34m**\u001B[0m\u001B[0mquery\u001B[0m\u001B[0;34m,\u001B[0m \u001B[0msource\u001B[0m\u001B[0;34m=\u001B[0m\u001B[0msource\u001B[0m\u001B[0;34m)\u001B[0m\u001B[0;34m\u001B[0m\u001B[0;34m\u001B[0m\u001B[0m\n\u001B[0m",
      "\u001B[0;31mTypeError\u001B[0m: analyze() missing 2 required positional arguments: 'start_time' and 'end_time'"
     ]
    }
   ],
   "source": [
    "from datetime import datetime\n",
    "from data_lineage import Analyze\n",
    "\n",
    "analyze = Analyze(docker_address)\n",
    "\n",
    "for query in queries:\n",
    "    print(query)\n",
    "    analyze.analyze(**query, source=source, start_time=datetime.now(), end_time=datetime.now())"
   ]
  },
  {
   "cell_type": "markdown",
   "metadata": {},
   "source": [
    "Visit [Kedro UI](http://localhost:8000/)\n",
    "\n",
    "![One Task Graph](./full_graph.png)"
   ]
  },
  {
   "cell_type": "code",
   "execution_count": null,
   "metadata": {},
   "outputs": [],
   "source": []
  }
 ],
 "metadata": {
  "kernelspec": {
   "display_name": "Python 3 (ipykernel)",
   "language": "python",
   "name": "python3"
  },
  "language_info": {
   "codemirror_mode": {
    "name": "ipython",
    "version": 3
   },
   "file_extension": ".py",
   "mimetype": "text/x-python",
   "name": "python",
   "nbconvert_exporter": "python",
   "pygments_lexer": "ipython3",
   "version": "3.8.10"
  }
 },
 "nbformat": 4,
 "nbformat_minor": 4
}