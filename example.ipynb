{
 "cells": [
  {
   "cell_type": "code",
   "execution_count": null,
   "metadata": {},
   "outputs": [],
   "source": [
    "queries = [\n",
    "    \"\"\"\n",
    "    INSERT INTO page_lookup_nonredirect \n",
    "            SELECT  page.page_id as redirect_id, page.page_title as redirect_title, page.page_title true_title, \n",
    "                    page.page_id, page.page_latest \n",
    "            FROM page LEFT OUTER JOIN redirect ON page.page_id = redirect.rd_from\n",
    "            WHERE redirect.rd_from IS NULL\n",
    "    \"\"\",\n",
    "    \"\"\"\n",
    "    insert into page_lookup_redirect \n",
    "            select original_page.page_id redirect_id, original_page.page_title redirect_title, \n",
    "                    final_page.page_title as true_title, final_page.page_id, final_page.page_latest \n",
    "            from page final_page join redirect on (redirect.page_title = final_page.page_title) \n",
    "                join page original_page on (redirect.rd_from = original_page.page_id)\n",
    "    \"\"\",\n",
    "    \"\"\"\n",
    "    INSERT INTO page_lookup\n",
    "            SELECT redirect_id, redirect_title, true_title, page_id, page_version\n",
    "            FROM (\n",
    "                SELECT redirect_id, redirect_title, true_title, page_id, page_version\n",
    "                FROM page_lookup_nonredirect\n",
    "                UNION ALL\n",
    "                SELECT redirect_id, redirect_title, true_title, page_id, page_version\n",
    "                FROM page_lookup_redirect) u\n",
    "    \"\"\",\n",
    "    \"\"\"\n",
    "           INSERT INTO filtered_pagecounts \n",
    "           SELECT regexp_replace (reflect ('java.net.URLDecoder','decode', reflect ('java.net.URLDecoder','decode',pvs.page_title)),'^\\s*([a-zA-Z0-9]+).*','$1') page_title \n",
    "                ,SUM (pvs.views) AS total_views, SUM (pvs.bytes_sent) AS total_bytes_sent\n",
    "            FROM pagecounts as pvs \n",
    "           WHERE not pvs.page_title LIKE '(MEDIA|SPECIAL||Talk|User|User_talk|Project|Project_talk|File|File_talk|MediaWiki|MediaWiki_talk|Template|Template_talk|Help|Help_talk|Category|Category_talk|Portal|Wikipedia|Wikipedia_talk|upload|Special)\\:(.*)' and\n",
    "                pvs.page_title LIKE '^([A-Z])(.*)' and\n",
    "                not pvs.page_title LIKE '(.*).(jpg|gif|png|JPG|GIF|PNG|txt|ico)$' and\n",
    "                pvs.page_title <> '404_error/' and \n",
    "                pvs.page_title <> 'Main_Page' and \n",
    "                pvs.page_title <> 'Hypertext_Transfer_Protocol' and \n",
    "                pvs.page_title <> 'Favicon.ico' and \n",
    "                pvs.page_title <> 'Search' and \n",
    "                pvs.dt = '2020-01-01'\n",
    "          GROUP BY \n",
    "                regexp_replace (reflect ('java.net.URLDecoder','decode', reflect ('java.net.URLDecoder','decode',pvs.page_title)),'^\\s*([a-zA-Z0-9]+).*','$1')\n",
    "    \"\"\",\n",
    "    \"\"\"\n",
    "    INSERT INTO normalized_pagecounts\n",
    "           SELECT pl.page_id page_id, REGEXP_REPLACE(pl.true_title, '_', ' ') page_title, pl.true_title page_url, views, bytes_sent\n",
    "           FROM page_lookup pl JOIN filtered_pagecounts fp \n",
    "           ON fp.page_title = pl.redirect_title where fp.dt='2020-01-01'\n",
    "    \"\"\"\n",
    "]"
   ]
  },
  {
   "cell_type": "code",
   "execution_count": null,
   "metadata": {
    "scrolled": true
   },
   "outputs": [],
   "source": [
    "# Scan the catalog from a file. Note that this is for demo only. \n",
    "# Use dbcat (https://github.com/tokern/dbcat) to load the catalog from a database\n",
    "# or a data warehouse\n",
    "\n",
    "\n",
    "from dbcat.scanners.json import File\n",
    "catalog_objects = File(\"test\", \"test/catalog.json\").scan()"
   ]
  },
  {
   "cell_type": "code",
   "execution_count": null,
   "metadata": {},
   "outputs": [],
   "source": [
    "# Load the catalog. For more details, refer to https://github.com/tokern/dbcat\n",
    "# Provide credentials of the postgres database where catalog is stored.\n",
    "# Note that you should have already created the database and user \n",
    "\n",
    "from data_lineage import catalog_connection\n",
    "\n",
    "catalog_conf = \"\"\"\n",
    "catalog:\n",
    "  type: postgres\n",
    "  user: catalog_user\n",
    "  password: catal0g_passw0rd\n",
    "  host: 127.0.0.1\n",
    "  port: 5432\n",
    "  database: tokern\n",
    "\"\"\"\n",
    "catalog = catalog_connection(catalog_conf)\n",
    "catalog.save_catalog(catalog_objects)"
   ]
  },
  {
   "cell_type": "code",
   "execution_count": null,
   "metadata": {},
   "outputs": [],
   "source": [
    "from data_lineage.parser import parse_queries, visit_dml_queries\n",
    "\n",
    "# Parse all queries\n",
    "parsed = parse_queries(queries)\n",
    "\n",
    "# Visit the parse trees to extract source and target queries\n",
    "visited = visit_dml_queries(catalog, parsed)"
   ]
  },
  {
   "cell_type": "code",
   "execution_count": null,
   "metadata": {},
   "outputs": [],
   "source": [
    "# Create a graph and visualize it\n",
    "\n",
    "from data_lineage.parser import create_graph\n",
    "graph = create_graph(catalog, visited)\n",
    "\n",
    "import plotly\n",
    "plotly.offline.iplot(graph.fig())"
   ]
  },
  {
   "cell_type": "code",
   "execution_count": null,
   "metadata": {},
   "outputs": [],
   "source": [
    "# Visualize a sub graph \n",
    "\n",
    "target = catalog.get_column(database_name=\"test\",\n",
    "                           schema_name=\"default\",\n",
    "                           table_name=\"normalized_pagecounts\",\n",
    "                           column_name=\"page_title\")\n",
    "\n",
    "sub_graph = graph.sub_graph(target)\n",
    "sub_fig = sub_graph.fig()\n",
    "plotly.offline.iplot(sub_fig)"
   ]
  },
  {
   "cell_type": "code",
   "execution_count": null,
   "metadata": {},
   "outputs": [],
   "source": []
  }
 ],
 "metadata": {
  "kernelspec": {
   "display_name": "Python 3",
   "language": "python",
   "name": "python3"
  },
  "language_info": {
   "codemirror_mode": {
    "name": "ipython",
    "version": 3
   },
   "file_extension": ".py",
   "mimetype": "text/x-python",
   "name": "python",
   "nbconvert_exporter": "python",
   "pygments_lexer": "ipython3",
   "version": "3.8.5"
  }
 },
 "nbformat": 4,
 "nbformat_minor": 4
}