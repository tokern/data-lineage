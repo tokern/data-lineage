{
 "cells": [
  {
   "cell_type": "code",
   "execution_count": null,
   "metadata": {},
   "outputs": [],
   "source": [
    "# Read queries from a json file. Note that this is for demo only\n",
    "import json\n",
    "\n",
    "with open(\"test/queries.json\", \"r\") as file:\n",
    "    queries = json.load(file)"
   ]
  },
  {
   "cell_type": "code",
   "execution_count": null,
   "metadata": {},
   "outputs": [],
   "source": [
    "# Load the catalog. For more details, refer to https://github.com/tokern/dbcat\n",
    "# Provide credentials of the postgres database where catalog is stored.\n",
    "# Note that you should have already created the database and user \n",
    "\n",
    "from dbcat import catalog_connection\n",
    "\n",
    "catalog_conf = \"\"\"\n",
    "catalog:\n",
    "  type: postgresql\n",
    "  user: catalog_user\n",
    "  password: catal0g_passw0rd\n",
    "  host: 127.0.0.1\n",
    "  port: 5432\n",
    "  database: tokern\n",
    "\"\"\"\n",
    "catalog = catalog_connection(catalog_conf)"
   ]
  },
  {
   "cell_type": "code",
   "execution_count": null,
   "outputs": [],
   "source": [
    "# Scan the catalog from a file. Note that this is for demo only.\n",
    "# Use dbcat (https://github.com/tokern/dbcat) to load the catalog from a database\n",
    "# or a data warehouse\n",
    "\n",
    "import json\n",
    "with open(\"test/catalog.json\", \"r\") as file:\n",
    "    content = json.load(file)\n",
    "\n",
    "source = catalog.add_source(name=content[\"name\"], type=content[\"type\"])\n",
    "for s in content[\"schemata\"]:\n",
    "    schema = catalog.add_schema(s[\"name\"], source=source)\n",
    "\n",
    "    for t in s[\"tables\"]:\n",
    "        table = catalog.add_table(t[\"name\"], schema)\n",
    "\n",
    "        index = 0\n",
    "        for c in t[\"columns\"]:\n",
    "            catalog.add_column(\n",
    "                column_name=c[\"name\"],\n",
    "                type=c[\"type\"],\n",
    "                sort_order=index,\n",
    "                table=table,\n",
    "            )\n",
    "            index += 1\n",
    "\n"
   ],
   "metadata": {
    "collapsed": false,
    "pycharm": {
     "name": "#%%\n"
    }
   }
  },
  {
   "cell_type": "code",
   "execution_count": null,
   "metadata": {},
   "outputs": [],
   "source": [
    "from data_lineage.parser import parse_queries, visit_dml_queries\n",
    "\n",
    "# Parse all queries\n",
    "parsed = parse_queries(queries)\n",
    "\n",
    "# Visit the parse trees to extract source and target queries\n",
    "visited = visit_dml_queries(catalog, parsed)"
   ]
  },
  {
   "cell_type": "code",
   "execution_count": null,
   "metadata": {},
   "outputs": [],
   "source": [
    "# Create a graph and visualize it\n",
    "\n",
    "from data_lineage.parser import create_graph\n",
    "graph = create_graph(catalog, visited)\n",
    "\n",
    "import plotly\n",
    "plotly.offline.iplot(graph.fig())"
   ]
  },
  {
   "cell_type": "code",
   "execution_count": null,
   "metadata": {
    "pycharm": {
     "name": "#%%\n"
    }
   },
   "outputs": [],
   "source": [
    "# Visualize a sub graph \n",
    "\n",
    "target = catalog.get_column(database_name=\"test\",\n",
    "                           schema_name=\"default\",\n",
    "                           table_name=\"normalized_pagecounts\",\n",
    "                           column_name=\"page_title\")\n",
    "\n",
    "sub_graph = graph.sub_graph(target)\n",
    "sub_fig = sub_graph.fig()\n",
    "plotly.offline.iplot(sub_fig)\n"
   ]
  }
 ],
 "metadata": {
  "kernelspec": {
   "display_name": "Python 3",
   "language": "python",
   "name": "python3"
  },
  "language_info": {
   "codemirror_mode": {
    "name": "ipython",
    "version": 3
   },
   "file_extension": ".py",
   "mimetype": "text/x-python",
   "name": "python",
   "nbconvert_exporter": "python",
   "pygments_lexer": "ipython3",
   "version": "3.8.5"
  }
 },
 "nbformat": 4,
 "nbformat_minor": 4
}