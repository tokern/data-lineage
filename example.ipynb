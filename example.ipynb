{
 "cells": [
  {
   "cell_type": "code",
   "execution_count": null,
   "metadata": {},
   "outputs": [],
   "source": [
    "queries = [\n",
    "    \"\"\"\n",
    "    INSERT INTO page_lookup_nonredirect \n",
    "            SELECT  page.page_id as redircet_id, page.page_title as redirect_title, page.page_title true_title, \n",
    "                    page.page_id, page.page_latest \n",
    "            FROM page LEFT OUTER JOIN redirect ON page.page_id = redirect.rd_from\n",
    "            WHERE redirect.rd_from IS NULL\n",
    "    \"\"\",\n",
    "    \"\"\"\n",
    "    insert into page_lookup_redirect \n",
    "            select original_page.page_id redirect_id, original_page.page_title redirect_title, \n",
    "                    final_page.page_title as true_title, final_page.page_id, final_page.page_latest \n",
    "            from page final_page join redirect on (redirect.page_title = final_page.page_title) \n",
    "                join page original_page on (redirect.rd_from = original_page.page_id)\n",
    "    \"\"\",\n",
    "    \"\"\"\n",
    "    INSERT INTO page_lookup\n",
    "            SELECT redirect_id, redirect_title, true_title, page_id, page_version\n",
    "            FROM (\n",
    "                SELECT redirect_id, redirect_title, true_title, page_id, page_version\n",
    "                FROM page_lookup_nonredirect\n",
    "                UNION ALL\n",
    "                SELECT redirect_id, redirect_title, true_title, page_id, page_version\n",
    "                FROM page_lookup_redirect) u\n",
    "    \"\"\",\n",
    "    \"\"\"\n",
    "           INSERT INTO filtered_pagecounts \n",
    "           SELECT regexp_replace (reflect ('java.net.URLDecoder','decode', reflect ('java.net.URLDecoder','decode',pvs.page_title)),'^\\s*([a-zA-Z0-9]+).*','$1') page_title \n",
    "                ,SUM (pvs.views) AS total_views, SUM (pvs.bytes_sent) AS total_bytes_sent\n",
    "            FROM pagecounts as pvs \n",
    "           WHERE not pvs.page_title LIKE '(MEDIA|SPECIAL||Talk|User|User_talk|Project|Project_talk|File|File_talk|MediaWiki|MediaWiki_talk|Template|Template_talk|Help|Help_talk|Category|Category_talk|Portal|Wikipedia|Wikipedia_talk|upload|Special)\\:(.*)' and\n",
    "                pvs.page_title LIKE '^([A-Z])(.*)' and\n",
    "                not pvs.page_title LIKE '(.*).(jpg|gif|png|JPG|GIF|PNG|txt|ico)$' and\n",
    "                pvs.page_title <> '404_error/' and \n",
    "                pvs.page_title <> 'Main_Page' and \n",
    "                pvs.page_title <> 'Hypertext_Transfer_Protocol' and \n",
    "                pvs.page_title <> 'Favicon.ico' and \n",
    "                pvs.page_title <> 'Search' and \n",
    "                pvs.dt = '2020-01-01'\n",
    "          GROUP BY \n",
    "                regexp_replace (reflect ('java.net.URLDecoder','decode', reflect ('java.net.URLDecoder','decode',pvs.page_title)),'^\\s*([a-zA-Z0-9]+).*','$1')\n",
    "    \"\"\",\n",
    "    \"\"\"\n",
    "    INSERT INTO normalized_pagecounts\n",
    "           SELECT pl.page_id page_id, REGEXP_REPLACE(pl.true_title, '_', ' ') page_title, pl.true_title page_url, views, bytes_sent\n",
    "           FROM page_lookup pl JOIN filtered_pagecounts fp \n",
    "           ON fp.page_title = pl.redirect_title where fp.dt='2020-01-01'\n",
    "    \"\"\"\n",
    "]"
   ]
  },
  {
   "cell_type": "code",
   "execution_count": null,
   "metadata": {},
   "outputs": [],
   "source": [
    "from data_lineage.catalog.query import Query\n",
    "from data_lineage.data_lineage import parse, get_dml_queries, create_graph\n",
    "\n",
    "\n",
    "graph = create_graph(get_dml_queries(parse([Query(q) for q in queries])))"
   ]
  },
  {
   "cell_type": "code",
   "execution_count": null,
   "metadata": {},
   "outputs": [],
   "source": [
    "fig = graph.fig()"
   ]
  },
  {
   "cell_type": "code",
   "execution_count": null,
   "metadata": {},
   "outputs": [],
   "source": [
    "import plotly\n",
    "plotly.offline.iplot(fig)"
   ]
  },
  {
   "cell_type": "code",
   "execution_count": null,
   "metadata": {},
   "outputs": [],
   "source": [
    "sub_graph = graph.sub_graph((None, 'page_lookup'))\n",
    "sub_fig = sub_graph.fig()\n",
    "plotly.offline.iplot(sub_fig)"
   ]
  },
  {
   "cell_type": "code",
   "execution_count": null,
   "metadata": {},
   "outputs": [],
   "source": []
  }
 ],
 "metadata": {
  "kernelspec": {
   "display_name": "Python 3",
   "language": "python",
   "name": "python3"
  },
  "language_info": {
   "codemirror_mode": {
    "name": "ipython",
    "version": 3
   },
   "file_extension": ".py",
   "mimetype": "text/x-python",
   "name": "python",
   "nbconvert_exporter": "python",
   "pygments_lexer": "ipython3",
   "version": "3.7.5"
  }
 },
 "nbformat": 4,
 "nbformat_minor": 4
}
