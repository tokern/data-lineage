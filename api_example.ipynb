{
 "cells": [
  {
   "cell_type": "markdown",
   "id": "public-income",
   "metadata": {},
   "source": [
    "# Overview\n",
    "\n",
    "This example showcases the API exposed by the data lineage package. The API can be used to build\n",
    "a lineage graph by adding nodes and edges that represent columns and transformations. \n",
    "\n",
    "Note that the goal of the example to explain the building blocks of the lineage graph.\n",
    "In practical scenarios, use a pack (e.g. query parser pack) to automate the process.\n",
    "\n",
    "This example consists of the following sequence of operations:\n",
    "* Start docker containers containing a demo. Refer to [docs](https://tokern.io/docs/data-lineage/installation) for detailed instructions on installing demo-wikimedia.\n",
    "* Register nodes from columns in the catalog.\n",
    "* Register directed edges to represent that a column is the source of data for another column.\n",
    "* Visualize the graph by visiting [Tokern UI](http://localhost:8000/).\n",
    "* Analyze the graph"
   ]
  },
  {
   "cell_type": "markdown",
   "id": "6a9c9b70",
   "metadata": {
    "pycharm": {
     "name": "#%% md\n"
    }
   },
   "source": [
    "# Installation\n",
    "\n",
    "This demo requires wikimedia demo to be running. Start the demo using the following instructions:\n",
    "\n",
    "    # in a new directory run\n",
    "    wget https://raw.githubusercontent.com/tokern/data-lineage/master/install-manifests/docker-compose/wikimedia-demo.yml\n",
    "    # or run\n",
    "    curl https://raw.githubusercontent.com/tokern/data-lineage/master/install-manifests/docker-compose/wikimedia-demo.yml -o docker-compose.yml\n",
    "\n",
    "\n",
    "Run docker-compose\n",
    "\n",
    "\n",
    "    docker-compose up -d\n",
    "\n",
    "\n",
    "Verify container are running\n",
    "\n",
    "\n",
    "    docker container ls | grep tokern\n"
   ]
  },
  {
   "cell_type": "code",
   "execution_count": 1,
   "id": "37651618",
   "metadata": {},
   "outputs": [],
   "source": [
    "# Required configuration for API and wikimedia database network address\n",
    "\n",
    "docker_address = \"http://127.0.0.1:8000\"\n",
    "wikimedia_db = {\n",
    "  \"username\": \"etldev\",\n",
    "  \"password\": \"3tld3v\",\n",
    "  \"uri\": \"tokern-demo-wikimedia\",\n",
    "  \"port\": \"5432\",\n",
    "  \"database\": \"wikimedia\"\n",
    "}"
   ]
  },
  {
   "cell_type": "code",
   "execution_count": 2,
   "id": "wrong-antigua",
   "metadata": {
    "scrolled": true
   },
   "outputs": [],
   "source": [
    "# Setup a connection to catalog using the SDK.\n",
    "from data_lineage import Catalog\n",
    "\n",
    "catalog = Catalog(docker_address)"
   ]
  },
  {
   "cell_type": "code",
   "execution_count": 3,
   "id": "23ed8c16",
   "metadata": {
    "pycharm": {
     "name": "#%%\n"
    },
    "scrolled": true
   },
   "outputs": [],
   "source": [
    "# Register wikimedia datawarehouse with data-lineage app.\n",
    "\n",
    "source = catalog.add_source(name=\"wikimedia\", source_type=\"postgresql\", **wikimedia_db)"
   ]
  },
  {
   "cell_type": "code",
   "execution_count": 4,
   "id": "ce6ebf16",
   "metadata": {
    "scrolled": false
   },
   "outputs": [
    {
     "data": {
      "text/plain": [
       "True"
      ]
     },
     "execution_count": 4,
     "metadata": {},
     "output_type": "execute_result"
    }
   ],
   "source": [
    "# Scan the wikimedia data warehouse and register all schemata, tables and columns.\n",
    "\n",
    "catalog.scan_source(source)"
   ]
  },
  {
   "cell_type": "code",
   "execution_count": 5,
   "id": "202c6b63",
   "metadata": {
    "scrolled": false
   },
   "outputs": [
    {
     "name": "stdout",
     "output_type": "stream",
     "text": [
      "{'attributes': {'context': {'sql': 'insert into page_lookup_nonredirect(redirect_id) select page_id from page'}, 'name': 'insert_into_page_lookup_nonredirect'}, 'id': '1', 'links': {'self': 'http://tokern-api:4142/api/v1/catalog/jobs/1'}, 'type': 'jobs'}\n"
     ]
    }
   ],
   "source": [
    "# Create a job and job_execution that inserts data from page to page_lookup_nonredirect\n",
    "\n",
    "job = catalog.add_job(\"insert_into_page_lookup_nonredirect\",\n",
    "                      {\n",
    "                          \"sql\": \"insert into page_lookup_nonredirect(redirect_id) select page_id from page\"\n",
    "                      })"
   ]
  },
  {
   "cell_type": "code",
   "execution_count": 6,
   "id": "cf308d97",
   "metadata": {
    "scrolled": true
   },
   "outputs": [],
   "source": [
    "import datetime\n",
    "from dbcat.catalog.models import JobExecutionStatus\n",
    "\n",
    "job_execution = catalog.add_job_execution(\n",
    "    job=job,\n",
    "    started_at=datetime.datetime.combine(\n",
    "        datetime.date(2021, 4, 1), datetime.time(1, 0)\n",
    "    ),\n",
    "    ended_at=datetime.datetime.combine(\n",
    "        datetime.date(2021, 4, 1), datetime.time(1, 15)\n",
    "    ),\n",
    "    status=JobExecutionStatus.SUCCESS,\n",
    ")\n"
   ]
  },
  {
   "cell_type": "code",
   "execution_count": 8,
   "id": "b45aaac8",
   "metadata": {},
   "outputs": [],
   "source": [
    "# Add an edge between these two columns:\n",
    "# (test\", \"default\", \"page\", \"page_id\") -> (\"test\", \"default\", \"page_lookup_nonredirect\", \"redirect_id\"),\n",
    "\n",
    "source_column = catalog.get_column(source_name=\"wikimedia\", \n",
    "                                   schema_name=\"public\", \n",
    "                                   table_name=\"page\",\n",
    "                                   column_name=\"page_id\")\n",
    "target_column = catalog.get_column(source_name=\"wikimedia\", \n",
    "                                   schema_name=\"public\", \n",
    "                                   table_name=\"page_lookup_nonredirect\",\n",
    "                                   column_name=\"redirect_id\")\n",
    "\n",
    "edge = catalog.add_column_lineage(source=source_column,\n",
    "                                  target=target_column,\n",
    "                                  job_execution_id=job_execution.id,\n",
    "                                  context={})"
   ]
  },
  {
   "cell_type": "markdown",
   "id": "254fb735",
   "metadata": {},
   "source": [
    "Visit [Kedro UI](http://localhost:8000/)\n",
    "\n",
    "![One Task Graph](./one_task.png)"
   ]
  }
 ],
 "metadata": {
  "kernelspec": {
   "display_name": "Python 3",
   "language": "python",
   "name": "python3"
  },
  "language_info": {
   "codemirror_mode": {
    "name": "ipython",
    "version": 3
   },
   "file_extension": ".py",
   "mimetype": "text/x-python",
   "name": "python",
   "nbconvert_exporter": "python",
   "pygments_lexer": "ipython3",
   "version": "3.8.5"
  }
 },
 "nbformat": 4,
 "nbformat_minor": 5
}